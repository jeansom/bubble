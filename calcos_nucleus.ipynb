{
 "cells": [
  {
   "cell_type": "code",
   "execution_count": null,
   "metadata": {},
   "outputs": [],
   "source": [
    "%load_ext autoreload\n",
    "%autoreload 2\n",
    "\n",
    "from astropy.io import fits\n",
    "from astropy.table import Table\n",
    "import numpy as np\n",
    "import glob\n",
    "\n",
    "import calcos"
   ]
  },
  {
   "cell_type": "code",
   "execution_count": null,
   "metadata": {},
   "outputs": [],
   "source": [
    "asn_filenames = glob.glob('./data/nucleus 2/*/*_asn*.fits') # asn filenames for all exposures\n",
    "rawtag_filenames = glob.glob('./data/nucleus 2/*/*_rawtag*.fits') # *_rawtag.fits filenames for all exposures\n",
    "percents = np.concatenate(([0], np.logspace(np.log10(0.0001), np.log10(0.05),10))) # Encircled energy percent values"
   ]
  },
  {
   "cell_type": "code",
   "execution_count": null,
   "metadata": {},
   "outputs": [],
   "source": [
    "for file in rawtag_filenames:\n",
    "    fits.setval(file, 'TWOZXTAB', value='lref$2bj2256nl_2zx_mod.fits') # point rawtags to my reference file for TWOZONE"
   ]
  },
  {
   "cell_type": "code",
   "execution_count": null,
   "metadata": {},
   "outputs": [],
   "source": [
    "# Runs calcos for every exposure and encircled energy percent\n",
    "outdir = 'percents/perc_' # location for saving calcos output\n",
    "for p in percents:\n",
    "    try:\n",
    "        print('-------------------'+str(p)+'-------------------')\n",
    "        \n",
    "        # Update the reference file to have the correct UPPER_OUTER and LOWER_OUTER limits\n",
    "        hdu_2zx = fits.open('./data/cal_ref/2bj2256nl_2zx_mod.fits', mode='update')\n",
    "        hdu_2zx[1].data['UPPER_OUTER'] = 1 - p/2\n",
    "        hdu_2zx[1].data['LOWER_OUTER'] = p/2\n",
    "        hdu_2zx.close()\n",
    "\n",
    "        # Run calcos for all the exposures\n",
    "        for filename in asn_filenames:\n",
    "            calcos.calcos(filename, verbosity=0, outdir=outdir+str(p))\n",
    "    except:\n",
    "        print(\"Skipping \"+str(p))\n",
    "        continue"
   ]
  }
 ],
 "metadata": {
  "kernelspec": {
   "display_name": "Python 3",
   "language": "python",
   "name": "python3"
  },
  "language_info": {
   "codemirror_mode": {
    "name": "ipython",
    "version": 3
   },
   "file_extension": ".py",
   "mimetype": "text/x-python",
   "name": "python",
   "nbconvert_exporter": "python",
   "pygments_lexer": "ipython3",
   "version": "3.7.3"
  }
 },
 "nbformat": 4,
 "nbformat_minor": 2
}
